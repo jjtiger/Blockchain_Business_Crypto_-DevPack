{
 "cells": [
  {
   "cell_type": "markdown",
   "id": "40fd807c-65bf-4572-849a-e13ccc8db9d8",
   "metadata": {},
   "source": [
    "# Blockchain Business Development Tool\n"
   ]
  },
  {
   "cell_type": "markdown",
   "id": "bfa3c74c-4d9e-456e-adbd-0af79b19340f",
   "metadata": {},
   "source": [
    "## Fintech Application of Blockchain and Smart Contracts to develop and deploy a business development tool providing utilities on a local blockchain such as NFTs and Tokens\n"
   ]
  },
  {
   "cell_type": "markdown",
   "id": "b6bfa767-dff3-4c5f-a94c-f126b6e14dfe",
   "metadata": {},
   "source": [
    "[![NFT](https://talkforbiz.com/wp-content/uploads/2022/03/blockchain-business-development.jpg)"
   ]
  },
  {
   "cell_type": "code",
   "execution_count": null,
   "id": "6aebd3b2-5de9-4f3d-8d72-845f48972928",
   "metadata": {},
   "outputs": [],
   "source": []
  }
 ],
 "metadata": {
  "kernelspec": {
   "display_name": "Python 3 (ipykernel)",
   "language": "python",
   "name": "python3"
  },
  "language_info": {
   "codemirror_mode": {
    "name": "ipython",
    "version": 3
   },
   "file_extension": ".py",
   "mimetype": "text/x-python",
   "name": "python",
   "nbconvert_exporter": "python",
   "pygments_lexer": "ipython3",
   "version": "3.7.11"
  }
 },
 "nbformat": 4,
 "nbformat_minor": 5
}
